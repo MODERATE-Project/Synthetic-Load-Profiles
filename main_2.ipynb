{
 "cells": [
  {
   "cell_type": "code",
   "execution_count": null,
   "id": "dc3e2c10-b9e9-4c1c-96db-d6eb778d4ecf",
   "metadata": {},
   "outputs": [],
   "source": [
    "import cryptpandas as crp\n",
    "import os\n",
    "import getpass\n",
    "import pandas as pd\n",
    "import numpy as np\n",
    "import torch\n",
    "print(f'torch {torch.__version__}')\n",
    "from sklearn.preprocessing import minmax_scale, MinMaxScaler\n",
    "import json\n",
    "from pathlib import Path\n",
    "from torch.utils.data import TensorDataset, DataLoader\n",
    "import torch\n",
    "import matplotlib.pyplot as plt\n",
    "from datetime import date\n",
    "\n",
    "from data_manip import remove_incomplete_days\n",
    "from preproc import import_and_preprocess_data, create_and_add_datetime_features\n",
    "from GAN import GAN\n",
    "from plot import plot_losses\n",
    "from plot import plot_synthetic_vs_real_samples"
   ]
  },
  {
   "cell_type": "markdown",
   "id": "f97b3319-9e08-45d8-9c93-ca9d1215acd7",
   "metadata": {},
   "source": [
    "### Data import"
   ]
  },
  {
   "cell_type": "code",
   "execution_count": null,
   "id": "fd62837f-e1a8-4d28-b409-3e55ee7065c0",
   "metadata": {},
   "outputs": [],
   "source": [
    "GAN_data_path = Path().absolute().parent / 'GAN_data'\n",
    "\n",
    "df_loadProfiles = crp.read_encrypted(path = os.path.join(GAN_data_path, 'all_profiles.crypt'), password = getpass.getpass('Password: '))"
   ]
  },
  {
   "cell_type": "code",
   "execution_count": null,
   "id": "d7adfb6e-b620-40ce-b254-a0e877b7e627",
   "metadata": {},
   "outputs": [],
   "source": [
    "df_labels = pd.read_csv(os.path.join(GAN_data_path, 'DBSCAN_15_clusters_labels.csv'), sep = ';')\n",
    "df_labels['name'] = df_labels['name'].str.split('_', expand = True)[1]"
   ]
  },
  {
   "cell_type": "markdown",
   "id": "3affd133-9537-47cc-91b6-a177343eca1c",
   "metadata": {},
   "source": [
    "### Create a dataframe for one cluster"
   ]
  },
  {
   "cell_type": "code",
   "execution_count": null,
   "id": "85e61f2f-2fc9-47ed-836c-45d43c385942",
   "metadata": {},
   "outputs": [],
   "source": [
    "clusterLabel = 1\n",
    "\n",
    "profiles = df_labels.loc[df_labels['labels'] == clusterLabel, 'name'].to_list()#[:20]\n",
    "print(len(profiles))\n",
    "\n",
    "df_profiles = df_loadProfiles[df_loadProfiles.columns[:13].tolist() + [item for item in profiles if item in df_loadProfiles.columns]].copy()\n",
    "df_plot = df_profiles.iloc[:, 13:].reset_index(drop = True).copy()    #save for later\n",
    "\n",
    "df_profiles = df_profiles.melt(id_vars = df_loadProfiles.columns[:13], value_vars = df_profiles.columns[13:], var_name = 'profile')\n",
    "df_profiles = df_profiles.pivot_table(values = 'value', index = ['date', 'profile'], columns = 'hour of the day')"
   ]
  },
  {
   "cell_type": "markdown",
   "id": "3a474067-29e2-4049-9b95-cc59518c6bc9",
   "metadata": {},
   "source": [
    "### Plot the cluster (**<span style=\"color:red\">can be skipped</span>**)"
   ]
  },
  {
   "cell_type": "code",
   "execution_count": null,
   "id": "fcaaaf23-4c8f-42e1-85b0-71d8c4ffb332",
   "metadata": {},
   "outputs": [],
   "source": [
    "df_plot.plot(alpha = 0.75, legend = False, figsize = (16, 2));"
   ]
  },
  {
   "cell_type": "markdown",
   "id": "d8ae3b50-0fcf-4ecd-96d7-29a98ad9ec9d",
   "metadata": {},
   "source": [
    "### Create and scale samples and labels"
   ]
  },
  {
   "cell_type": "code",
   "execution_count": null,
   "id": "22032b62-dbb3-43a6-9401-2609e03032d8",
   "metadata": {},
   "outputs": [],
   "source": [
    "scaler = MinMaxScaler(feature_range = (-1, 1))\n",
    "\n",
    "samples = df_profiles.to_numpy()\n",
    "samplesScaled = scaler.fit_transform(samples.T).T\n",
    "\n",
    "#dates = df_profiles.reset_index()['date'].copy()\n",
    "#labelsDate_dict = {date_: idx for idx, date_ in enumerate(df_loadProfiles['date'].unique())}\n",
    "#labelsProfile_dict = {profile: idx for idx, profile in enumerate(profiles)}\n",
    "#labelsDate = df_profiles.reset_index()['date'].map(labelsDate_dict).to_numpy()\n",
    "#labelsProfile = df_profiles.reset_index()['profile'].map(labelsProfile_dict).to_numpy()\n",
    "#labels = np.vstack([labelsProfile, labelsDate])\n",
    "\n",
    "labels = np.array(range(len(df_profiles)))\n",
    "\n",
    "df_profilesScaled = df_profiles.copy()\n",
    "df_profilesScaled[::] = samplesScaled"
   ]
  },
  {
   "cell_type": "markdown",
   "id": "48f4a1c2-e605-4bc7-8e9d-4422faf7ed83",
   "metadata": {},
   "source": [
    "### Plot scaled profiles (**<span style=\"color:red\">can be skipped</span>**)"
   ]
  },
  {
   "cell_type": "code",
   "execution_count": null,
   "id": "86246346-dcc8-487e-9861-21b6a0f434f7",
   "metadata": {},
   "outputs": [],
   "source": [
    "df_plot_2 = df_profilesScaled.reset_index().melt(id_vars = ['date', 'profile'], value_vars = df_profilesScaled.columns).copy()\n",
    "df_plot_2 = df_plot_2.pivot_table(values = 'value', index = 'profile', columns = ['date', 'hour of the day'])"
   ]
  },
  {
   "cell_type": "code",
   "execution_count": null,
   "id": "7b97ba86-093a-4e6d-a3bd-e4e3d030b7b0",
   "metadata": {},
   "outputs": [],
   "source": [
    "df_plot_2.iloc[:, :24].T.plot(alpha = 0.75, legend = False, figsize = (16, 2));"
   ]
  },
  {
   "cell_type": "code",
   "execution_count": null,
   "id": "742072f9-2e50-4a87-b0f6-69a68fb2f9d8",
   "metadata": {},
   "outputs": [],
   "source": [
    "df_plot = df_profiles[df_profiles.index.get_level_values('date') == date(2021, 6, 2)].reset_index(drop = True).copy()\n",
    "df_plot.T.plot(alpha = 0.75, legend = False, figsize = (16, 4));"
   ]
  },
  {
   "cell_type": "markdown",
   "id": "a25ad62e-eae7-46c6-a449-25c936fac55a",
   "metadata": {},
   "source": [
    "### Create dataLoader"
   ]
  },
  {
   "cell_type": "code",
   "execution_count": null,
   "id": "389f5d7a-d958-46e3-9a37-44877ba86c6d",
   "metadata": {},
   "outputs": [],
   "source": [
    "dataset = TensorDataset(torch.Tensor(samplesScaled), torch.Tensor(labels))\n",
    "dataLoader = DataLoader(dataset, batch_size = 48, shuffle = True)"
   ]
  },
  {
   "cell_type": "markdown",
   "id": "879c840e-44a0-4df0-9e82-5488651b6d4b",
   "metadata": {},
   "source": [
    "### Configure GAN"
   ]
  },
  {
   "cell_type": "code",
   "execution_count": null,
   "id": "ab2aad6c-d44e-4d01-97a5-a31c5625c412",
   "metadata": {},
   "outputs": [],
   "source": [
    "name = 'model_2023-11-'\n",
    "\n",
    "if torch.cuda.is_available():\n",
    "    device = torch.device('cuda:0')\n",
    "    print('GPU is used.')\n",
    "else:\n",
    "    device = torch.device('cpu')\n",
    "    print('CPU is used.')\n",
    "\n",
    "dimLatent = 32\n",
    "featureCount = samplesScaled.shape[1]\n",
    "classCount = len(set(labels))\n",
    "dimEmbedding = classCount\n",
    "lr = 1e-5\n",
    "maxNorm = 1e6\n",
    "epochCount = 200\n",
    "#testLabel = 0"
   ]
  },
  {
   "cell_type": "markdown",
   "id": "9e3f045c-7139-4bd2-934c-a0d34766ebd9",
   "metadata": {},
   "source": [
    "### Create and run model"
   ]
  },
  {
   "cell_type": "code",
   "execution_count": null,
   "id": "ebee5086-ad8e-406b-9b25-35b226d8abc3",
   "metadata": {},
   "outputs": [],
   "source": [
    "model = GAN(\n",
    "    name = name,\n",
    "    device = device,\n",
    "    dataLoader = dataLoader,\n",
    "    dimLatent = dimLatent,\n",
    "    featureCount = featureCount,\n",
    "    classCount = classCount,\n",
    "    dimEmbedding = dimEmbedding,\n",
    "    lr = lr,\n",
    "    maxNorm = maxNorm,\n",
    "    epochCount = epochCount,\n",
    "    #testLabel = testLabel\n",
    ")\n",
    "model.train()"
   ]
  },
  {
   "cell_type": "markdown",
   "id": "2227c10d-8d2e-4def-a26c-ac9dadbccb45",
   "metadata": {},
   "source": [
    "### Generate synthetic profiles"
   ]
  },
  {
   "cell_type": "code",
   "execution_count": null,
   "id": "dfa994a0-54c6-44b1-9584-23b3e0a53865",
   "metadata": {},
   "outputs": [],
   "source": [
    "numberOfProfiles = 50\n",
    "\n",
    "synthSamplesScaled_list = [model.generate_sample() for i in range(numberOfProfiles)]\n",
    "synthSamples_list = [scaler.inverse_transform(item.T).T for item in synthSamplesScaled_list]\n",
    "\n",
    "synthSamplesScaled = np.dstack(synthSamplesScaled_list)\n",
    "synthSamples = np.dstack(synthSamples_list)"
   ]
  },
  {
   "cell_type": "markdown",
   "id": "b788fb19-f6aa-443e-968a-9d66923d7f48",
   "metadata": {},
   "source": [
    "### Create plots"
   ]
  },
  {
   "cell_type": "code",
   "execution_count": null,
   "id": "b1693ffe-cda3-4921-b721-936e9cbb2e1a",
   "metadata": {},
   "outputs": [],
   "source": [
    "plot_synthetic_vs_real_samples(\n",
    "    model = model,\n",
    "    df_profile = df_profiles,\n",
    "    samplesScaled = samplesScaled,\n",
    "    synthSamples = synthSamplesScaled\n",
    ")"
   ]
  },
  {
   "cell_type": "code",
   "execution_count": null,
   "id": "0df76b0d-e70e-470b-97b0-6ad30e513e8a",
   "metadata": {},
   "outputs": [],
   "source": [
    "plot_losses(model = model)"
   ]
  },
  {
   "cell_type": "code",
   "execution_count": null,
   "id": "3f520000-c896-442a-a109-3a28d4e7711a",
   "metadata": {},
   "outputs": [],
   "source": []
  },
  {
   "cell_type": "code",
   "execution_count": null,
   "id": "74a17151-8a50-4f5b-9774-afa2fc1e6c2d",
   "metadata": {},
   "outputs": [],
   "source": []
  }
 ],
 "metadata": {
  "kernelspec": {
   "display_name": "Python 3 (ipykernel)",
   "language": "python",
   "name": "python3"
  },
  "language_info": {
   "codemirror_mode": {
    "name": "ipython",
    "version": 3
   },
   "file_extension": ".py",
   "mimetype": "text/x-python",
   "name": "python",
   "nbconvert_exporter": "python",
   "pygments_lexer": "ipython3",
   "version": "3.11.2"
  }
 },
 "nbformat": 4,
 "nbformat_minor": 5
}
